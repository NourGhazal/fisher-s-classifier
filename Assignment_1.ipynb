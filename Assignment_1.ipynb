{
 "cells": [
  {
   "cell_type": "markdown",
   "metadata": {},
   "source": [
    "<h1><center>CSEN1022:Assignment 1</center></h1>\n",
    "<h3><center>Winter 2021</center></h3>\n",
    "<hr style=\"border:2px solid black\"> </hr>"
   ]
  },
  {
   "cell_type": "markdown",
   "metadata": {},
   "source": [
    "## <u> Please don't forget to fill in this data </u>\n",
    "**Member 1**\n",
    "\n",
    "Name:Noureldin Ayman Ghazal\n",
    "\n",
    "GUC-ID:43-15747\n",
    "\n",
    "Elective Tutorial No.:T07\n",
    "\n",
    "**Member 2**\n",
    "\n",
    "Name:Mohamed Ahmed Mohamed Alekhsasy\n",
    "\n",
    "GUC-ID:43-16620\n",
    "\n",
    "Elective Tutorial No.:T03\n",
    "\n",
    "<hr style=\"border:2px solid black\"> </hr>"
   ]
  },
  {
   "cell_type": "markdown",
   "metadata": {},
   "source": [
    "## Imports (Don't Edit)"
   ]
  },
  {
   "cell_type": "code",
   "execution_count": 142,
   "metadata": {},
   "outputs": [],
   "source": [
    "# ONLY USE THESE IMPORTS.\n",
    "# PLEASE DON'T EDIT THIS CELL.\n",
    "import numpy as np\n",
    "import matplotlib.pyplot as plt\n",
    "%matplotlib inline"
   ]
  },
  {
   "cell_type": "markdown",
   "metadata": {},
   "source": [
    "## Read Data (Edit)"
   ]
  },
  {
   "cell_type": "code",
   "execution_count": 207,
   "metadata": {},
   "outputs": [
    {
     "data": {
      "text/plain": [
       "(5000, 3072)"
      ]
     },
     "execution_count": 207,
     "metadata": {},
     "output_type": "execute_result"
    }
   ],
   "source": [
    "import os \n",
    "\n",
    "\n",
    "train_plane = np.array([plt.imread('Data/train/airplane/'+str(i)+'.jpg').reshape(-1) for i in range (5000)],dtype = float)\n",
    "test_plane = np.array([plt.imread('Data/test/airplane/'+str(i)+'.jpg').reshape(-1) for i in range (1000)],dtype = float)\n",
    "train_car = np.array([plt.imread('Data/train/automobile/'+str(i)+'.jpg').reshape(-1) for i in range (5000)],dtype = float)\n",
    "test_car = np.array([plt.imread('Data/test/automobile/'+str(i)+'.jpg').reshape(-1) for i in range (1000)],dtype = float)\n",
    "train_frog = np.array([plt.imread('Data/train/frog/'+str(i)+'.jpg').reshape(-1) for i in range (5000)],dtype = float)\n",
    "test_frog = np.array([plt.imread('Data/test/frog/'+str(i)+'.jpg').reshape(-1) for i in range (1000)],dtype = float)\n",
    "\n",
    "train_plane.shape\n",
    "# return (x_train, y_train), (x_test, y_test)"
   ]
  },
  {
   "cell_type": "code",
   "execution_count": 208,
   "metadata": {},
   "outputs": [],
   "source": [
    "# train_plane.astype(float)\n",
    "for i,sample in enumerate(train_plane):\n",
    "    m= (np.max(sample) - np.min(sample))\n",
    "    min = np.min(sample)\n",
    "#     train_plane[i].astype(float)\n",
    "#     print(type(train_plane[i]))\n",
    "#     print(sample)\n",
    "    for j, pixle in enumerate(sample):\n",
    "        x = pixle /255\n",
    "#         print(x)\n",
    "        train_plane[i][j]=x\n",
    "    \n",
    "#########################################################################################################\n",
    "# train_car.astype(float)\n",
    "for i,sample in enumerate(train_car):\n",
    "    m= (np.max(sample) - np.min(sample))\n",
    "    min = np.min(sample)\n",
    "#     train_car[i].astype(float)\n",
    "#     print(type(train_plane[i]))\n",
    "#     print(sample)\n",
    "    for j, pixle in enumerate(sample):\n",
    "        x = pixle /255\n",
    "#         print(x)\n",
    "        train_car[i][j]=x\n",
    "\n",
    "    \n",
    "# #########################################################################################################\n",
    "    \n",
    "# train_frog.astype(float)\n",
    "for i,sample in enumerate(train_frog):\n",
    "    m= (np.max(sample) - np.min(sample))\n",
    "    min = np.min(sample)\n",
    "#     train_frog[i].astype(float)\n",
    "#     print(type(train_plane[i]))\n",
    "#     print(sample)\n",
    "    for j, pixle in enumerate(sample):\n",
    "        x = pixle /255\n",
    "#         print(x)\n",
    "        train_frog[i][j]=x  "
   ]
  },
  {
   "cell_type": "code",
   "execution_count": 209,
   "metadata": {},
   "outputs": [],
   "source": [
    "for i,sample in enumerate(test_plane):\n",
    "    m= (np.max(sample) - np.min(sample))\n",
    "    min = np.min(sample)\n",
    "#     train_frog[i].astype(float)\n",
    "#     print(type(train_plane[i]))\n",
    "#     print(sample)\n",
    "    for j, pixle in enumerate(sample):\n",
    "        x = pixle /255\n",
    "#         print(x)\n",
    "        test_plane[i][j]=x\n",
    "\n",
    "    \n",
    "for i,sample in enumerate(test_car):\n",
    "    m= (np.max(sample) - np.min(sample))\n",
    "    min = np.min(sample)\n",
    "#     train_frog[i].astype(float)\n",
    "#     print(type(train_plane[i]))\n",
    "#     print(sample)\n",
    "    for j, pixle in enumerate(sample):\n",
    "        x = pixle /255\n",
    "#         print(x)\n",
    "        test_car[i][j]=x\n",
    "    \n",
    "    \n",
    "for i,sample in enumerate(test_frog):\n",
    "    m= (np.max(sample) - np.min(sample))\n",
    "    min = np.min(sample)\n",
    "#     train_frog[i].astype(float)\n",
    "#     print(type(train_plane[i]))\n",
    "#     print(sample)\n",
    "    for j, pixle in enumerate(sample):\n",
    "        x = pixle /255\n",
    "#         print(x)\n",
    "        test_frog[i][j]=x"
   ]
  },
  {
   "cell_type": "code",
   "execution_count": 210,
   "metadata": {},
   "outputs": [
    {
     "data": {
      "text/plain": [
       "array([[0.78431373, 0.79215686, 0.77254902, ..., 0.9254902 , 0.9254902 ,\n",
       "        0.93333333],\n",
       "       [0.47058824, 0.45882353, 0.42352941, ..., 0.4627451 , 0.43137255,\n",
       "        0.34117647],\n",
       "       [1.        , 0.95686275, 0.98431373, ..., 0.41960784, 0.4745098 ,\n",
       "        0.02745098],\n",
       "       ...,\n",
       "       [0.72941176, 0.71764706, 0.68235294, ..., 0.58823529, 0.49019608,\n",
       "        0.32941176],\n",
       "       [0.59215686, 0.60784314, 0.61176471, ..., 0.51372549, 0.46666667,\n",
       "        0.27058824],\n",
       "       [0.60784314, 0.62745098, 0.63921569, ..., 0.60784314, 0.63137255,\n",
       "        0.63137255]])"
      ]
     },
     "execution_count": 210,
     "metadata": {},
     "output_type": "execute_result"
    }
   ],
   "source": [
    "train_plane\n"
   ]
  },
  {
   "cell_type": "markdown",
   "metadata": {},
   "source": [
    "<hr style=\"border:2px solid black\"> </hr>\n",
    "\n",
    "## Construct Fischer's Linear Discriminant classifier for each of the 3 classes.\n",
    "#### Test each classifier on all images in X_Test. \n",
    "#### Construct Confusion Matrix."
   ]
  },
  {
   "cell_type": "code",
   "execution_count": 211,
   "metadata": {},
   "outputs": [
    {
     "name": "stdout",
     "output_type": "stream",
     "text": [
      "Plane Class has been trained Successfully !! \n",
      "CAr Class has been trained Successfully !! \n",
      "Frog Class has been trained Successfully !! \n"
     ]
    }
   ],
   "source": [
    "# Write code here\n",
    "# Train\n",
    "train_notPlane = np.append(train_car , train_frog , axis = 0)\n",
    "mPlane = train_plane.mean(axis = 0)\n",
    "mNotPlane = train_notPlane.mean(axis = 0)\n",
    "sPlane = np.zeros((3072,3072))\n",
    "sNotPlane = np.zeros((3072,3072))\n",
    "# print(mPlane.shape)\n",
    "# print(sPlane)\n",
    "for i in range(len(train_plane)):\n",
    "#     print(train_plane[i].shape)\n",
    "    sPlane += (train_plane[i] - mPlane).reshape(3072,1) @ (train_plane[i] - mPlane).reshape(1,3072)\n",
    "for i in range(len(train_notPlane)):\n",
    "#     print(train_plane[i].shape)\n",
    "    sNotPlane += (train_notPlane[i] - mNotPlane).reshape(3072,1) @ (train_notPlane[i] - mNotPlane).reshape(1,3072)\n",
    "\n",
    "#############\n",
    "\n",
    "sw_plane_inv = np.linalg.inv(sPlane+sNotPlane)\n",
    "planeClassifier = (sw_plane_inv @ (mPlane - mNotPlane)).reshape(3072,1)\n",
    "planeBias = -1* planeClassifier.T @ (mPlane+mNotPlane)/2\n",
    "\n",
    "print(\"Plane Class has been trained Successfully !! \")\n",
    "#############################################################################################################################\n",
    "\n",
    "train_notCar = np.append(train_plane , train_frog , axis = 0)\n",
    "mCar = train_car.mean(axis = 0)\n",
    "mNotCar = train_notCar.mean(axis = 0)\n",
    "sCar = np.zeros((3072,3072))\n",
    "sNotCar = np.zeros((3072,3072))\n",
    "# print(mPlane.shape)\n",
    "# print(sPlane)\n",
    "for i in range(len(train_car)):\n",
    "#     print(train_plane[i].shape)\n",
    "    sCar += (train_car[i] - mCar).reshape(3072,1) @ (train_car[i] - mCar).reshape(1,3072)\n",
    "for i in range(len(train_notCar)):\n",
    "#     print(train_plane[i].shape)\n",
    "    sNotCar += (train_notCar[i] - mNotCar).reshape(3072,1) @ (train_notCar[i] - mNotCar).reshape(1,3072)\n",
    "\n",
    "#############\n",
    "\n",
    "sw_car_inv = np.linalg.inv(sCar+sNotCar)\n",
    "carClassifier = (sw_car_inv @ (mCar - mNotCar)).reshape(3072,1)\n",
    "carBias = -1* carClassifier.T @ (mCar+mNotCar)/2\n",
    "\n",
    "print(\"CAr Class has been trained Successfully !! \")\n",
    "#############################################################################################################################\n",
    "\n",
    "train_notFrog = np.append(train_plane , train_car , axis = 0)\n",
    "mFrog = train_frog.mean(axis = 0)\n",
    "mNotGrog = train_notFrog.mean(axis = 0)\n",
    "sFrog = np.zeros((3072,3072))\n",
    "sNotFrog = np.zeros((3072,3072))\n",
    "# print(mPlane.shape)\n",
    "# print(sPlane)\n",
    "for i in range(len(train_frog)):\n",
    "#     print(train_plane[i].shape)\n",
    "    sFrog += (train_frog[i] - mFrog).reshape(3072,1) @ (train_frog[i] - mFrog).reshape(1,3072)\n",
    "for i in range(len(train_notFrog)):\n",
    "#     print(train_plane[i].shape)\n",
    "    sNotFrog += (train_notFrog[i] - mNotGrog).reshape(3072,1) @ (train_notFrog[i] - mNotGrog).reshape(1,3072)\n",
    "\n",
    "#############\n",
    "\n",
    "sw_frog_inv = np.linalg.inv(sFrog+sNotFrog)\n",
    "frogClassifier = (sw_frog_inv @ (mFrog - mNotGrog)).reshape(3072,1)\n",
    "frogBias = -1* frogClassifier.T @ (mFrog+mNotGrog)/2\n",
    "\n",
    "print(\"Frog Class has been trained Successfully !! \")\n",
    "#############################################################################################################################\n",
    "\n",
    "\n",
    "\n",
    "\n",
    "# confusion_matrix = "
   ]
  },
  {
   "cell_type": "code",
   "execution_count": 212,
   "metadata": {},
   "outputs": [],
   "source": [
    "# Test\n",
    "\n",
    "# print(planeBias.shape)\n",
    "confusion_matrix=[]\n",
    "wPlane = np.append(planeClassifier , planeBias)\n",
    "planeTest = np.concatenate((test_plane , np.ones((1000,1))) , axis=1)\n",
    "wCar = np.append(carClassifier , carBias)\n",
    "carTest = np.concatenate((test_car , np.ones((1000,1))) , axis=1)\n",
    "wFrog = np.append(frogClassifier , frogBias)\n",
    "frogTest = np.concatenate((test_frog , np.ones((1000,1))) , axis=1)\n",
    "# if(carClassifier.all() == frogClassifier.all()):\n",
    "#     print(\"G00G\")\n",
    "planeResults = planeTest @ wPlane\n",
    "notPlane1 =  planeTest @ wCar\n",
    "notPlane2 =  planeTest @ wFrog\n",
    "# print(planeResults[0])\n",
    "# print(notPlane1[0])\n",
    "# print(notPlane2[0])\n",
    "\n",
    "counter1 = 0\n",
    "counter2 = 0\n",
    "counter3 = 0\n",
    "for i in range(len(planeResults)):\n",
    "#     print(planeResults[i])\n",
    "#     print(notPlane1[i])\n",
    "#     print(notPlane2[i])\n",
    "    if(planeResults[i] > notPlane1[i] and planeResults[i] >notPlane2[i]):\n",
    "        counter1+=1\n",
    "    if(notPlane1[i] > planeResults[i] and notPlane1[i] >notPlane2[i]):\n",
    "        counter2+=1\n",
    "    if(notPlane2[i] > notPlane1[i] and notPlane2[i] >planeResults[i]):\n",
    "        counter3+=1\n",
    "\n",
    "x = [counter1,counter2,counter3]\n",
    "confusion_matrix += [x]\n",
    "carResults = carTest @ wCar\n",
    "notCar1 =  carTest @ wPlane\n",
    "notCar2 =  carTest @ wFrog  \n",
    "counter1 = 0\n",
    "counter2 = 0\n",
    "counter3 = 0\n",
    "for i in range(len(planeResults)):\n",
    "#     print(planeResults[i])\n",
    "#     print(notPlane1[i])\n",
    "#     print(notPlane2[i])\n",
    "    if(carResults[i] > notCar1[i] and carResults[i] >notCar2[i]):\n",
    "        counter1+=1\n",
    "    if(notCar1[i] > carResults[i] and notCar1[i] >notCar2[i]):\n",
    "        counter2+=1\n",
    "    if(notCar2[i] > notCar1[i] and notCar2[i] >carResults[i]):\n",
    "        counter3+=1\n",
    "\n",
    "x = [counter2,counter1,counter3]\n",
    "confusion_matrix += [x]\n",
    "frogResults = frogTest @ wFrog\n",
    "notFrog1 =  frogTest @ wPlane\n",
    "notFrog2 =  frogTest @ wCar \n",
    "# print(counter1)\n",
    "# print(counter2)\n",
    "# print(counter3)\n",
    "\n",
    "counter1 = 0\n",
    "counter2 = 0\n",
    "counter3 = 0\n",
    "\n",
    "for i in range(len(planeResults)):\n",
    "#     print(planeResults[i])\n",
    "#     print(notPlane1[i])\n",
    "#     print(notPlane2[i])\n",
    "    if(frogResults[i] > notFrog1[i] and frogResults[i] >notFrog2[i]):\n",
    "        counter1+=1\n",
    "    if(notFrog1[i] > frogResults[i] and notFrog1[i] >notFrog2[i]):\n",
    "        counter2+=1\n",
    "    if(notFrog2[i] > notFrog1[i] and notFrog2[i] >frogResults[i]):\n",
    "        counter3+=1\n",
    "x = [counter2,counter3,counter1]\n",
    "confusion_matrix += [x]"
   ]
  },
  {
   "cell_type": "code",
   "execution_count": null,
   "metadata": {},
   "outputs": [],
   "source": []
  },
  {
   "cell_type": "code",
   "execution_count": 213,
   "metadata": {},
   "outputs": [
    {
     "data": {
      "text/plain": [
       "(3000, 3072)"
      ]
     },
     "execution_count": 213,
     "metadata": {},
     "output_type": "execute_result"
    }
   ],
   "source": [
    "confusion_matrix = np.array(confusion_matrix)\n",
    "X_test = np.append(test_plane,test_car,axis=0)\n",
    "X_test= np.append(X_test,test_frog,axis=0)\n",
    "X_test.shape"
   ]
  },
  {
   "cell_type": "markdown",
   "metadata": {},
   "source": [
    "## Confusion Matrix (Don't Edit)"
   ]
  },
  {
   "cell_type": "code",
   "execution_count": 214,
   "metadata": {},
   "outputs": [
    {
     "data": {
      "image/png": "[encoded data removed]",
      "text/plain": [
       "<Figure size 360x360 with 1 Axes>"
      ]
     },
     "metadata": {
      "needs_background": "light"
     },
     "output_type": "display_data"
    }
   ],
   "source": [
    "# Make sure the previous cell returns a variable called confusion_matrix\n",
    "# Plot Confusion Matrix\n",
    "accuracy = np.diag(confusion_matrix).sum()/X_test.shape[0]\n",
    "plt.rc('figure', figsize=[5,5])\n",
    "plt.matshow(confusion_matrix,cmap=\"Blues\")\n",
    "plt.title('FLD+RGB = {0:0.3f}'.format(accuracy))\n",
    "for i in range(0,confusion_matrix.shape[0]):\n",
    "    for j in range(0,confusion_matrix.shape[1]):\n",
    "        plt.annotate(confusion_matrix[i,j],(j,i))"
   ]
  },
  {
   "cell_type": "markdown",
   "metadata": {},
   "source": [
    "### Repeat for Grayscale"
   ]
  },
  {
   "cell_type": "code",
   "execution_count": 215,
   "metadata": {},
   "outputs": [],
   "source": [
    "train_plane = np.array([plt.imread('Data/train/airplane/'+str(i)+'.jpg') for i in range (5000)],dtype = float)\n",
    "test_plane = np.array([plt.imread('Data/test/airplane/'+str(i)+'.jpg') for i in range (1000)],dtype = float)\n",
    "train_car = np.array([plt.imread('Data/train/automobile/'+str(i)+'.jpg') for i in range (5000)],dtype = float)\n",
    "test_car = np.array([plt.imread('Data/test/automobile/'+str(i)+'.jpg') for i in range (1000)],dtype = float)\n",
    "train_frog = np.array([plt.imread('Data/train/frog/'+str(i)+'.jpg') for i in range (5000)],dtype = float)\n",
    "test_frog = np.array([plt.imread('Data/test/frog/'+str(i)+'.jpg') for i in range (1000)],dtype = float)\n",
    "\n",
    "\n",
    "\n",
    "x = np.ones((5000,32,32,1))\n",
    "y=np.ones((5000,1024))\n",
    "\n",
    "for index , image in enumerate(train_plane):\n",
    "    for j , col in  enumerate(image):\n",
    "        for h, row in  enumerate(col):\n",
    "            x[index][j][h] = row[0]*0.31+row[1]*0.59+row[2]*0.11\n",
    "for i in range(len(x)) :\n",
    "    y[i]=x[i].reshape(-1)\n",
    "train_plane = y\n",
    "\n",
    "x = np.ones((5000,32,32,1))\n",
    "y=np.ones((5000,1024))\n",
    "for index , image in enumerate(train_car):\n",
    "    for j , col in  enumerate(image):\n",
    "        for h, row in  enumerate(col):\n",
    "            x[index][j][h] = row[0]*0.31+row[1]*0.59+row[2]*0.11\n",
    "for i in range(len(x)) :\n",
    "    y[i]=x[i].reshape(-1)\n",
    "train_car = y\n",
    "\n",
    "x = np.ones((5000,32,32,1))\n",
    "y=np.ones((5000,1024))\n",
    "for index , image in enumerate(train_frog):\n",
    "    for j , col in  enumerate(image):\n",
    "        for h, row in  enumerate(col):\n",
    "            x[index][j][h] = row[0]*0.31+row[1]*0.59+row[2]*0.11\n",
    "for i in range(len(x)) :\n",
    "    y[i]=x[i].reshape(-1)\n",
    "train_frog = y\n",
    "\n",
    "\n",
    "x = np.ones((1000,32,32,1))\n",
    "y=np.ones((1000,1024))\n",
    "\n",
    "\n",
    "for index , image in enumerate(test_plane):\n",
    "    for j , col in  enumerate(image):\n",
    "        for h, row in  enumerate(col):\n",
    "            x[index][j][h] = row[0]*0.31+row[1]*0.59+row[2]*0.11\n",
    "for i in range(len(x)) :\n",
    "    y[i]=x[i].reshape(-1)\n",
    "test_plane = y\n",
    "\n",
    "x = np.ones((1000,32,32,1))\n",
    "y=np.ones((1000,1024))\n",
    "for index , image in enumerate(test_car):\n",
    "    for j , col in  enumerate(image):\n",
    "        for h, row in  enumerate(col):\n",
    "            x[index][j][h] = row[0]*0.31+row[1]*0.59+row[2]*0.11\n",
    "for i in range(len(x)) :\n",
    "    y[i]=x[i].reshape(-1)\n",
    "test_car = y\n",
    "\n",
    "x = np.ones((1000,32,32,1))\n",
    "y=np.ones((1000,1024))\n",
    "for index , image in enumerate(test_frog):\n",
    "    for j , col in  enumerate(image):\n",
    "        for h, row in  enumerate(col):\n",
    "            x[index][j][h] = row[0]*0.31+row[1]*0.59+row[2]*0.11\n",
    "for i in range(len(x)) :\n",
    "    y[i]=x[i].reshape(-1)\n",
    "test_frog = y\n"
   ]
  },
  {
   "cell_type": "code",
   "execution_count": 216,
   "metadata": {},
   "outputs": [],
   "source": [
    "# train_plane.astype(float)\n",
    "for i,sample in enumerate(train_plane):\n",
    "    m= (np.max(sample) - np.min(sample))\n",
    "    min = np.min(sample)\n",
    "#     train_plane[i].astype(float)\n",
    "#     print(type(train_plane[i]))\n",
    "#     print(sample)\n",
    "    for j, pixle in enumerate(sample):\n",
    "        x = pixle /255\n",
    "#         print(x)\n",
    "        train_plane[i][j]=x\n",
    "    \n",
    "#########################################################################################################\n",
    "# train_car.astype(float)\n",
    "for i,sample in enumerate(train_car):\n",
    "    m= (np.max(sample) - np.min(sample))\n",
    "    min = np.min(sample)\n",
    "#     train_car[i].astype(float)\n",
    "#     print(type(train_plane[i]))\n",
    "#     print(sample)\n",
    "    for j, pixle in enumerate(sample):\n",
    "        x = pixle /255\n",
    "#         print(x)\n",
    "        train_car[i][j]=x\n",
    "\n",
    "    \n",
    "# #########################################################################################################\n",
    "    \n",
    "# train_frog.astype(float)\n",
    "for i,sample in enumerate(train_frog):\n",
    "    m= (np.max(sample) - np.min(sample))\n",
    "    min = np.min(sample)\n",
    "#     train_frog[i].astype(float)\n",
    "#     print(type(train_plane[i]))\n",
    "#     print(sample)\n",
    "    for j, pixle in enumerate(sample):\n",
    "        x = pixle /255\n",
    "#         print(x)\n",
    "        train_frog[i][j]=x  "
   ]
  },
  {
   "cell_type": "code",
   "execution_count": 217,
   "metadata": {},
   "outputs": [],
   "source": [
    "for i,sample in enumerate(test_plane):\n",
    "    m= (np.max(sample) - np.min(sample))\n",
    "    min = np.min(sample)\n",
    "#     train_frog[i].astype(float)\n",
    "#     print(type(train_plane[i]))\n",
    "#     print(sample)\n",
    "    for j, pixle in enumerate(sample):\n",
    "        x = pixle /255\n",
    "#         print(x)\n",
    "        test_plane[i][j]=x\n",
    "\n",
    "    \n",
    "for i,sample in enumerate(test_car):\n",
    "    m= (np.max(sample) - np.min(sample))\n",
    "    min = np.min(sample)\n",
    "#     train_frog[i].astype(float)\n",
    "#     print(type(train_plane[i]))\n",
    "#     print(sample)\n",
    "    for j, pixle in enumerate(sample):\n",
    "        x = pixle /255\n",
    "#         print(x)\n",
    "        test_car[i][j]=x\n",
    "    \n",
    "    \n",
    "for i,sample in enumerate(test_frog):\n",
    "    m= (np.max(sample) - np.min(sample))\n",
    "    min = np.min(sample)\n",
    "#     train_frog[i].astype(float)\n",
    "#     print(type(train_plane[i]))\n",
    "#     print(sample)\n",
    "    for j, pixle in enumerate(sample):\n",
    "        x = pixle /255\n",
    "#         print(x)\n",
    "        test_frog[i][j]=x\n"
   ]
  },
  {
   "cell_type": "code",
   "execution_count": 218,
   "metadata": {},
   "outputs": [
    {
     "name": "stdout",
     "output_type": "stream",
     "text": [
      "[[0.7954902  0.80341176 0.80737255 ... 0.94352941 0.95541176 0.93560784]\n",
      " [0.46317647 0.46317647 0.47231373 ... 0.48709804 0.45701961 0.4354902 ]\n",
      " [0.98282353 0.97690196 0.96866667 ... 0.47301961 0.43270588 0.41305882]\n",
      " ...\n",
      " [0.72458824 0.71443137 0.6905098  ... 0.5394902  0.51572549 0.50780392]\n",
      " [0.6094902  0.60862745 0.60862745 ... 0.46435294 0.46039216 0.46435294]\n",
      " [0.62894118 0.62894118 0.62894118 ... 0.63039216 0.63039216 0.63039216]]\n"
     ]
    },
    {
     "data": {
      "text/plain": [
       "(5000, 1024)"
      ]
     },
     "execution_count": 218,
     "metadata": {},
     "output_type": "execute_result"
    }
   ],
   "source": [
    "print(train_plane)\n",
    "train_plane.shape"
   ]
  },
  {
   "cell_type": "code",
   "execution_count": 219,
   "metadata": {},
   "outputs": [
    {
     "name": "stdout",
     "output_type": "stream",
     "text": [
      "Plane Class has been trained Successfully !! \n",
      "CAr Class has been trained Successfully !! \n",
      "Frog Class has been trained Successfully !! \n"
     ]
    }
   ],
   "source": [
    "# Write code here\n",
    "# Train\n",
    "train_notPlane = np.append(train_car , train_frog , axis = 0)\n",
    "mPlane = train_plane.mean(axis = 0)\n",
    "mNotPlane = train_notPlane.mean(axis = 0)\n",
    "sPlane = np.zeros((1024,1024))\n",
    "sNotPlane = np.zeros((1024,1024))\n",
    "# print(mPlane.shape)\n",
    "# print(sPlane)\n",
    "for i in range(len(train_plane)):\n",
    "    sPlane += (train_plane[i] - mPlane).reshape(1024,1) @ (train_plane[i] - mPlane).reshape(1,1024)\n",
    "    \n",
    "for i in range(len(train_notPlane)):\n",
    "    sNotPlane += (train_notPlane[i] - mNotPlane).reshape(1024,1) @ (train_notPlane[i] - mNotPlane).reshape(1,1024)\n",
    "    \n",
    "# print(sPlane,'\\n',\"HFGF\",'\\n')\n",
    "# print(sNotPlane)\n",
    "# print(train_plane.shape)\n",
    "\n",
    "#############\n",
    "\n",
    "sw_plane_inv = np.linalg.inv(sPlane+sNotPlane)\n",
    "planeClassifier = (sw_plane_inv @ (mPlane - mNotPlane)).reshape(1024,1)\n",
    "planeBias = -1* planeClassifier.T @ (mPlane+mNotPlane)/2\n",
    "\n",
    "print(\"Plane Class has been trained Successfully !! \")\n",
    "#############################################################################################################################\n",
    "\n",
    "train_notCar = np.append(train_plane , train_frog , axis = 0)\n",
    "mCar = train_car.mean(axis = 0)\n",
    "mNotCar = train_notCar.mean(axis = 0)\n",
    "sCar = np.zeros((1024,1024))\n",
    "sNotCar = np.zeros((1024,1024))\n",
    "# print(mPlane.shape)\n",
    "# print(sPlane)\n",
    "for i in range(len(train_car)):\n",
    "#     print(train_plane[i].shape)\n",
    "    sCar += (train_car[i] - mCar).reshape(1024,1) @ (train_car[i] - mCar).reshape(1,1024)\n",
    "for i in range(len(train_notCar)):\n",
    "#     print(train_plane[i].shape)\n",
    "    sNotCar += (train_notCar[i] - mNotCar).reshape(1024,1) @ (train_notCar[i] - mNotCar).reshape(1,1024)\n",
    "\n",
    "#############\n",
    "\n",
    "sw_car_inv = np.linalg.inv(sCar+sNotCar)\n",
    "carClassifier = (sw_car_inv @ (mCar - mNotCar)).reshape(1024,1)\n",
    "carBias = -1* carClassifier.T @ (mCar+mNotCar)/2\n",
    "\n",
    "print(\"CAr Class has been trained Successfully !! \")\n",
    "#############################################################################################################################\n",
    "\n",
    "train_notFrog = np.append(train_plane , train_car , axis = 0)\n",
    "mFrog = train_frog.mean(axis = 0)\n",
    "mNotGrog = train_notFrog.mean(axis = 0)\n",
    "sFrog = np.zeros((1024,1024))\n",
    "sNotFrog = np.zeros((1024,1024))\n",
    "# print(mPlane.shape)\n",
    "# print(sPlane)\n",
    "for i in range(len(train_frog)):\n",
    "#     print(train_plane[i].shape)\n",
    "    sFrog += (train_frog[i] - mFrog).reshape(1024,1) @ (train_frog[i] - mFrog).reshape(1,1024)\n",
    "for i in range(len(train_notFrog)):\n",
    "#     print(train_plane[i].shape)\n",
    "    sNotFrog += (train_notFrog[i] - mNotGrog).reshape(1024,1) @ (train_notFrog[i] - mNotGrog).reshape(1,1024)\n",
    "\n",
    "#############\n",
    "\n",
    "sw_frog_inv = np.linalg.inv(sFrog+sNotFrog)\n",
    "frogClassifier = (sw_frog_inv @ (mFrog - mNotGrog)).reshape(1024,1)\n",
    "frogBias = -1* frogClassifier.T @ (mFrog+mNotGrog)/2\n",
    "\n",
    "print(\"Frog Class has been trained Successfully !! \")\n",
    "#############################################################################################################################\n",
    "\n",
    "\n",
    "\n",
    "\n",
    "# # confusion_matrix = "
   ]
  },
  {
   "cell_type": "code",
   "execution_count": 220,
   "metadata": {},
   "outputs": [],
   "source": [
    "# Test\n",
    "\n",
    "# print(planeBias.shape)\n",
    "confusion_matrix=[]\n",
    "wPlane = np.append(planeClassifier , planeBias)\n",
    "planeTest = np.concatenate((test_plane , np.ones((1000,1))) , axis=1)\n",
    "wCar = np.append(carClassifier , carBias)\n",
    "carTest = np.concatenate((test_car , np.ones((1000,1))) , axis=1)\n",
    "wFrog = np.append(frogClassifier , frogBias)\n",
    "frogTest = np.concatenate((test_frog , np.ones((1000,1))) , axis=1)\n",
    "# if(carClassifier.all() == frogClassifier.all()):\n",
    "#     print(\"G00G\")\n",
    "planeResults = planeTest @ wPlane\n",
    "notPlane1 =  planeTest @ wCar\n",
    "notPlane2 =  planeTest @ wFrog\n",
    "# print(planeResults[0])\n",
    "# print(notPlane1[0])\n",
    "# print(notPlane2[0])\n",
    "\n",
    "counter1 = 0\n",
    "counter2 = 0\n",
    "counter3 = 0\n",
    "for i in range(len(planeResults)):\n",
    "#     print(planeResults[i])\n",
    "#     print(notPlane1[i])\n",
    "#     print(notPlane2[i])\n",
    "    if(planeResults[i] > notPlane1[i] and planeResults[i] >notPlane2[i]):\n",
    "        counter1+=1\n",
    "    if(notPlane1[i] > planeResults[i] and notPlane1[i] >notPlane2[i]):\n",
    "        counter2+=1\n",
    "    if(notPlane2[i] > notPlane1[i] and notPlane2[i] >planeResults[i]):\n",
    "        counter3+=1\n",
    "\n",
    "x = [counter1,counter2,counter3]\n",
    "confusion_matrix += [x]\n",
    "carResults = carTest @ wCar\n",
    "notCar1 =  carTest @ wPlane\n",
    "notCar2 =  carTest @ wFrog  \n",
    "counter1 = 0\n",
    "counter2 = 0\n",
    "counter3 = 0\n",
    "for i in range(len(planeResults)):\n",
    "#     print(planeResults[i])\n",
    "#     print(notPlane1[i])\n",
    "#     print(notPlane2[i])\n",
    "    if(carResults[i] > notCar1[i] and carResults[i] >notCar2[i]):\n",
    "        counter1+=1\n",
    "    if(notCar1[i] > carResults[i] and notCar1[i] >notCar2[i]):\n",
    "        counter2+=1\n",
    "    if(notCar2[i] > notCar1[i] and notCar2[i] >carResults[i]):\n",
    "        counter3+=1\n",
    "\n",
    "x = [counter2,counter1,counter3]\n",
    "confusion_matrix += [x]\n",
    "frogResults = frogTest @ wFrog\n",
    "notFrog1 =  frogTest @ wPlane\n",
    "notFrog2 =  frogTest @ wCar \n",
    "# print(counter1)\n",
    "# print(counter2)\n",
    "# print(counter3)\n",
    "\n",
    "counter1 = 0\n",
    "counter2 = 0\n",
    "counter3 = 0\n",
    "\n",
    "for i in range(len(planeResults)):\n",
    "#     print(planeResults[i])\n",
    "#     print(notPlane1[i])\n",
    "#     print(notPlane2[i])\n",
    "    if(frogResults[i] > notFrog1[i] and frogResults[i] >notFrog2[i]):\n",
    "        counter1+=1\n",
    "    if(notFrog1[i] > frogResults[i] and notFrog1[i] >notFrog2[i]):\n",
    "        counter2+=1\n",
    "    if(notFrog2[i] > notFrog1[i] and notFrog2[i] >frogResults[i]):\n",
    "        counter3+=1\n",
    "x = [counter2,counter3,counter1]\n",
    "confusion_matrix += [x]"
   ]
  },
  {
   "cell_type": "code",
   "execution_count": 221,
   "metadata": {},
   "outputs": [
    {
     "data": {
      "text/plain": [
       "(3000, 1024)"
      ]
     },
     "execution_count": 221,
     "metadata": {},
     "output_type": "execute_result"
    }
   ],
   "source": [
    "confusion_matrix = np.array(confusion_matrix)\n",
    "X_test = np.append(test_plane,test_car,axis=0)\n",
    "X_test= np.append(X_test,test_frog,axis=0)\n",
    "X_test.shape"
   ]
  },
  {
   "cell_type": "markdown",
   "metadata": {},
   "source": [
    "## Confusion Matrix (Don't Edit)"
   ]
  },
  {
   "cell_type": "code",
   "execution_count": 222,
   "metadata": {},
   "outputs": [
    {
     "data": {
      "image/png": "[encoded data removed]",
      "text/plain": [
       "<Figure size 360x360 with 1 Axes>"
      ]
     },
     "metadata": {
      "needs_background": "light"
     },
     "output_type": "display_data"
    }
   ],
   "source": [
    "# Make sure the previous cell returns a variable called confusion_matrix\n",
    "# Plot Confusion Matrix\n",
    "accuracy = np.diag(confusion_matrix).sum()/X_test.shape[0]\n",
    "plt.rc('figure', figsize=[5,5])\n",
    "plt.matshow(confusion_matrix,cmap=\"Blues\")\n",
    "plt.title('FLD+GRAY = {0:0.3f}'.format(accuracy))\n",
    "for i in range(0,confusion_matrix.shape[0]):\n",
    "    for j in range(0,confusion_matrix.shape[1]):\n",
    "        plt.annotate(confusion_matrix[i,j],(j,i))"
   ]
  },
  {
   "cell_type": "markdown",
   "metadata": {},
   "source": [
    "<hr style=\"border:2px solid black\"> </hr>\n",
    "\n",
    "## Comment on the change of accuracy between RGB and Grayscale\n",
    "##########\n",
    "\n",
    "The accuracy drops in the grey scale image as the switch cause our chanels to drop from 3 chanels to only one chanel which is equivalent to losing some of our data  \n",
    "The frog class is the most affected class as the green color was a dominant feature in the frog class \n",
    "...\n",
    "...\n",
    "...\n",
    "\n",
    "##########\n",
    "<hr style=\"border:2px solid black\"> </hr>"
   ]
  },
  {
   "cell_type": "code",
   "execution_count": null,
   "metadata": {},
   "outputs": [],
   "source": []
  }
 ],
 "metadata": {
  "interpreter": {
   "hash": "31f2aee4e71d21fbe5cf8b01ff0e069b9275f58929596ceb00d14d90e3e16cd6"
  },
  "kernelspec": {
   "display_name": "Python 3",
   "language": "python",
   "name": "python3"
  },
  "language_info": {
   "codemirror_mode": {
    "name": "ipython",
    "version": 3
   },
   "file_extension": ".py",
   "mimetype": "text/x-python",
   "name": "python",
   "nbconvert_exporter": "python",
   "pygments_lexer": "ipython3",
   "version": "3.8.5"
  }
 },
 "nbformat": 4,
 "nbformat_minor": 4
}
